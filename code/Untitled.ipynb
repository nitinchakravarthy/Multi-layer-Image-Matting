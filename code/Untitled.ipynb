{
 "cells": [
  {
   "cell_type": "code",
   "execution_count": 2,
   "metadata": {},
   "outputs": [],
   "source": [
    "from __future__ import division\n",
    "\n",
    "import logging\n",
    "\n",
    "import cv2\n",
    "import numpy as np\n",
    "from numpy.lib.stride_tricks import as_strided\n",
    "import scipy.sparse\n",
    "import scipy.sparse.linalg"
   ]
  },
  {
   "cell_type": "code",
   "execution_count": 4,
   "metadata": {},
   "outputs": [],
   "source": [
    "def _rolling_block(A, block=(3, 3)):\n",
    "    \"\"\"Applies sliding window to given matrix.\"\"\"\n",
    "    shape = (A.shape[0] - block[0] + 1, A.shape[1] - block[1] + 1) + block\n",
    "    strides = (A.strides[0], A.strides[1]) + A.strides\n",
    "    return as_strided(A, shape=shape, strides=strides)"
   ]
  },
  {
   "cell_type": "code",
   "execution_count": 19,
   "metadata": {},
   "outputs": [],
   "source": [
    "def compute_laplacian(img, mask=None, eps=10**(-7), win_rad=1):\n",
    "    \"\"\"Computes Matting Laplacian for a given image.\n",
    "    Args:\n",
    "        img: 3-dim numpy matrix with input image\n",
    "        mask: mask of pixels for which Laplacian will be computed.\n",
    "            If not set Laplacian will be computed for all pixels.\n",
    "        eps: regularization parameter controlling alpha smoothness\n",
    "            from Eq. 12 of the original paper. Defaults to 1e-7.\n",
    "        win_rad: radius of window used to build Matting Laplacian (i.e.\n",
    "            radius of omega_k in Eq. 12).\n",
    "    Returns: sparse matrix holding Matting Laplacian.\n",
    "    \"\"\"\n",
    "\n",
    "    win_size = (win_rad * 2 + 1) ** 2\n",
    "    h, w, d = img.shape\n",
    "    # Number of window centre indices in h, w axes\n",
    "    c_h, c_w = h - 2 * win_rad, w - 2 * win_rad\n",
    "    win_diam = win_rad * 2 + 1\n",
    "\n",
    "    indsM = np.arange(h * w).reshape((h, w))\n",
    "    ravelImg = img.reshape(h * w, d)\n",
    "    win_inds = _rolling_block(indsM, block=(win_diam, win_diam))\n",
    "    print(win_inds.shape)\n",
    "    \n",
    "    win_inds = win_inds.reshape(c_h, c_w, win_size)\n",
    "    if mask is not None:\n",
    "        mask = cv2.dilate(\n",
    "            mask.astype(np.uint8),\n",
    "            np.ones((win_diam, win_diam), np.uint8)\n",
    "        ).astype(np.bool)\n",
    "        win_mask = np.sum(mask.ravel()[win_inds], axis=2)\n",
    "        win_inds = win_inds[win_mask > 0, :]\n",
    "    else:\n",
    "        win_inds = win_inds.reshape(-1, win_size)\n",
    "\n",
    "    print(win_inds.shape)\n",
    "    print(win_inds)\n",
    "    winI = ravelImg[win_inds]\n",
    "    print(winI.shape)\n",
    "    \n",
    "    win_mu = np.mean(winI, axis=1, keepdims=True)\n",
    "    win_var = np.einsum('...ji,...jk ->...ik', winI, winI) / win_size - np.einsum('...ji,...jk ->...ik', win_mu, win_mu)\n",
    "    print(win_mu.shape, win_var.shape)\n",
    "\n",
    "    inv = np.linalg.inv(win_var + (eps/win_size)*np.eye(3))\n",
    "\n",
    "    X = np.einsum('...ij,...jk->...ik', winI - win_mu, inv)\n",
    "    print(X.shape)\n",
    "    vals = np.eye(win_size) - (1.0/win_size)*(1 + np.einsum('...ij,...kj->...ik', X, winI - win_mu))\n",
    "\n",
    "    nz_indsCol = np.tile(win_inds, win_size).ravel()\n",
    "    nz_indsRow = np.repeat(win_inds, win_size).ravel()\n",
    "    nz_indsVal = vals.ravel()\n",
    "    L = scipy.sparse.coo_matrix((nz_indsVal, (nz_indsRow, nz_indsCol)), shape=(h*w, h*w))\n",
    "    return L"
   ]
  },
  {
   "cell_type": "code",
   "execution_count": 20,
   "metadata": {},
   "outputs": [],
   "source": [
    "img = np.random.rand(3, 3, 3)"
   ]
  },
  {
   "cell_type": "code",
   "execution_count": 21,
   "metadata": {},
   "outputs": [
    {
     "name": "stdout",
     "output_type": "stream",
     "text": [
      "(1, 1, 3, 3)\n",
      "(1, 9)\n",
      "[[0 1 2 3 4 5 6 7 8]]\n",
      "(1, 9, 3)\n",
      "(1, 1, 3) (1, 3, 3)\n",
      "(1, 9, 3)\n"
     ]
    },
    {
     "data": {
      "text/plain": [
       "<9x9 sparse matrix of type '<class 'numpy.float64'>'\n",
       "\twith 81 stored elements in COOrdinate format>"
      ]
     },
     "execution_count": 21,
     "metadata": {},
     "output_type": "execute_result"
    }
   ],
   "source": [
    "compute_laplacian(img)"
   ]
  },
  {
   "cell_type": "code",
   "execution_count": 1,
   "metadata": {},
   "outputs": [],
   "source": [
    "import cv2"
   ]
  },
  {
   "cell_type": "code",
   "execution_count": 11,
   "metadata": {},
   "outputs": [],
   "source": [
    "import numpy as np\n",
    "import matplotlib.pyplot as plt"
   ]
  },
  {
   "cell_type": "code",
   "execution_count": 21,
   "metadata": {},
   "outputs": [],
   "source": [
    "img = cv2.imread('./scribble.png')"
   ]
  },
  {
   "cell_type": "code",
   "execution_count": null,
   "metadata": {},
   "outputs": [],
   "source": [
    "img[np.where(img < 127)] = 0\n",
    "img[np.where(img >= 127)] = 255"
   ]
  },
  {
   "cell_type": "code",
   "execution_count": 26,
   "metadata": {},
   "outputs": [],
   "source": [
    "img[np.where((img == [255,255,255]).all(axis = 2))] = [0, 0, 0]"
   ]
  },
  {
   "cell_type": "code",
   "execution_count": null,
   "metadata": {},
   "outputs": [],
   "source": []
  },
  {
   "cell_type": "code",
   "execution_count": 30,
   "metadata": {},
   "outputs": [
    {
     "ename": "ValueError",
     "evalue": "shape mismatch: value array of shape (2,) could not be broadcast to indexing result of shape (0,)",
     "output_type": "error",
     "traceback": [
      "\u001b[1;31m---------------------------------------------------------------------------\u001b[0m",
      "\u001b[1;31mValueError\u001b[0m                                Traceback (most recent call last)",
      "\u001b[1;32m<ipython-input-30-d900441f1fe3>\u001b[0m in \u001b[0;36m<module>\u001b[1;34m()\u001b[0m\n\u001b[1;32m----> 1\u001b[1;33m \u001b[0mx\u001b[0m\u001b[1;33m[\u001b[0m\u001b[0mnp\u001b[0m\u001b[1;33m.\u001b[0m\u001b[0mwhere\u001b[0m\u001b[1;33m(\u001b[0m\u001b[1;33m(\u001b[0m\u001b[0mimg\u001b[0m \u001b[1;33m==\u001b[0m \u001b[1;33m[\u001b[0m\u001b[1;36m255\u001b[0m\u001b[1;33m,\u001b[0m\u001b[1;36m255\u001b[0m\u001b[1;33m,\u001b[0m\u001b[1;36m255\u001b[0m\u001b[1;33m]\u001b[0m\u001b[1;33m)\u001b[0m\u001b[1;33m.\u001b[0m\u001b[0mall\u001b[0m\u001b[1;33m(\u001b[0m\u001b[0maxis\u001b[0m \u001b[1;33m=\u001b[0m \u001b[1;36m2\u001b[0m\u001b[1;33m)\u001b[0m\u001b[1;33m)\u001b[0m\u001b[1;33m]\u001b[0m \u001b[1;33m=\u001b[0m \u001b[1;33m[\u001b[0m\u001b[1;36m1\u001b[0m\u001b[1;33m,\u001b[0m\u001b[1;36m1\u001b[0m\u001b[1;33m]\u001b[0m\u001b[1;33m\u001b[0m\u001b[0m\n\u001b[0m",
      "\u001b[1;31mValueError\u001b[0m: shape mismatch: value array of shape (2,) could not be broadcast to indexing result of shape (0,)"
     ]
    }
   ],
   "source": [
    "x[np.where((img == [255,255,255]).all(axis = 2))] = [1,1]"
   ]
  },
  {
   "cell_type": "code",
   "execution_count": 27,
   "metadata": {},
   "outputs": [
    {
     "data": {
      "image/png": "[encoded data removed]",
      "text/plain": [
       "<Figure size 432x288 with 1 Axes>"
      ]
     },
     "metadata": {},
     "output_type": "display_data"
    }
   ],
   "source": [
    "plt.imshow(img)\n",
    "plt.show()"
   ]
  },
  {
   "cell_type": "code",
   "execution_count": 34,
   "metadata": {},
   "outputs": [],
   "source": [
    "L = 3\n",
    "\n",
    "prior = 0.33*np.ones([img.shape[0], img.shape[1], L])\n",
    "prior[np.where((img == [255,0,0]).all(axis = 2))] = [1,0,0]\n",
    "prior[np.where((img == [0,255,0]).all(axis = 2))] = [0,1,0]\n",
    "prior[np.where((img == [0,0,255]).all(axis = 2))] = [0,0,1]\n",
    "\n",
    "\n",
    "consts_map = np.zeros\n",
    "\n"
   ]
  },
  {
   "cell_type": "code",
   "execution_count": 35,
   "metadata": {},
   "outputs": [
    {
     "data": {
      "image/png": "[encoded data removed]",
      "text/plain": [
       "<Figure size 432x288 with 1 Axes>"
      ]
     },
     "metadata": {},
     "output_type": "display_data"
    }
   ],
   "source": [
    "plt.imshow(prior)\n",
    "plt.show()"
   ]
  },
  {
   "cell_type": "code",
   "execution_count": null,
   "metadata": {},
   "outputs": [],
   "source": []
  }
 ],
 "metadata": {
  "kernelspec": {
   "display_name": "Python 3",
   "language": "python",
   "name": "python3"
  },
  "language_info": {
   "codemirror_mode": {
    "name": "ipython",
    "version": 3
   },
   "file_extension": ".py",
   "mimetype": "text/x-python",
   "name": "python",
   "nbconvert_exporter": "python",
   "pygments_lexer": "ipython3",
   "version": "3.7.1"
  }
 },
 "nbformat": 4,
 "nbformat_minor": 2
}
